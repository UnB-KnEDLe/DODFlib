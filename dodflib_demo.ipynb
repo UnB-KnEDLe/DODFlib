{
 "cells": [
  {
   "cell_type": "code",
   "execution_count": 1,
   "metadata": {},
   "outputs": [],
   "source": [
    "import nltk\n",
    "import sklearn_crfsuite\n",
    "from sklearn_crfsuite import metrics\n",
    "import pandas as pd\n",
    "import glob\n",
    "import xml.etree.ElementTree as ET\n",
    "import nltk\n",
    "import math\n",
    "import numpy as np\n",
    "import warnings\n",
    "from sklearn.model_selection import cross_validate\n",
    "\n",
    "\n",
    "warnings.filterwarnings(\"ignore\")\n",
    "from sklearn.pipeline import make_pipeline, Pipeline\n",
    "from importlib import reload"
   ]
  },
  {
   "cell_type": "code",
   "execution_count": 2,
   "metadata": {
    "scrolled": true
   },
   "outputs": [],
   "source": [
    "import dodflib.core.loader as LD\n",
    "from dodflib.core.utils import pad_dataframe\n",
    "\n",
    "import dodflib.core.preprocess as P\n",
    "import dodflib.core.feature_extraction as FT\n",
    "import dodflib.core.utils as UT\n",
    "import dodflib.core.transformers as T\n",
    "\n",
    "from importlib import reload as rl"
   ]
  },
  {
   "cell_type": "code",
   "execution_count": 3,
   "metadata": {
    "scrolled": true
   },
   "outputs": [],
   "source": [
    "anc = 'Ato_Nomeacao_Comissionado'\n",
    "aec = 'Ato_Exoneracao_Comissionado'"
   ]
  },
  {
   "cell_type": "code",
   "execution_count": 4,
   "metadata": {
    "scrolled": true
   },
   "outputs": [],
   "source": [
    "reload(LD)\n",
    "rl(UT)\n",
    "p = ['xmls/10_193.17.9.2013_v1.xml']\n",
    "aec = 'Ato_Exoneracao_Comissionado' \n",
    "ldr = LD.LoaderXML(p)"
   ]
  },
  {
   "cell_type": "code",
   "execution_count": 5,
   "metadata": {},
   "outputs": [
    {
     "data": {
      "text/plain": [
       "{'Ato_Abono_Permanencia',\n",
       " 'Ato_Cessao',\n",
       " 'Ato_Exoneracao_Comissionado',\n",
       " 'Ato_Exoneracao_Efetivo',\n",
       " 'Ato_Nomeacao_Comissionado',\n",
       " 'Ato_Nomeacao_Efetivo',\n",
       " 'Ato_Retificacao_Comissionado',\n",
       " 'Ato_Retificacao_Efetivo',\n",
       " 'Ato_Reversao',\n",
       " 'Ato_Substituicao',\n",
       " 'Ato_Tornado_Sem_Efeito_Apo',\n",
       " 'Ato_Tornado_Sem_Efeito_Exo_Nom',\n",
       " 'a_pedido_ou_nao',\n",
       " 'candidato',\n",
       " 'candidato_PNE',\n",
       " 'cargo',\n",
       " 'cargo_comissionado',\n",
       " 'cargo_efetivo',\n",
       " 'cargo_objeto_substituicao',\n",
       " 'cargo_orgao_cessionario',\n",
       " 'cargo_substituto',\n",
       " 'carreira',\n",
       " 'classe',\n",
       " 'data_documento',\n",
       " 'data_dodf',\n",
       " 'data_dodf_edital_normativo',\n",
       " 'data_dodf_resultado_final',\n",
       " 'data_edital_normativo',\n",
       " 'data_edital_resultado_final',\n",
       " 'data_final',\n",
       " 'data_inicial',\n",
       " 'edital_normativo',\n",
       " 'edital_resultado_final',\n",
       " 'especialidade',\n",
       " 'fundamento_legal',\n",
       " 'hierarquia_lotacao',\n",
       " 'informacao_corrigida',\n",
       " 'informacao_errada',\n",
       " 'lotacao',\n",
       " 'matricula',\n",
       " 'matricula_SIAPE',\n",
       " 'matricula_substituido',\n",
       " 'matricula_substituto',\n",
       " 'matriucla_SIAPE',\n",
       " 'motivo',\n",
       " 'nome',\n",
       " 'nome_substituido',\n",
       " 'nome_substituto',\n",
       " 'numero_documento',\n",
       " 'numero_dodf',\n",
       " 'numero_dodf_edital_normativo',\n",
       " 'numero_dodf_resultado_final',\n",
       " 'onus',\n",
       " 'orgao',\n",
       " 'orgao_cedente',\n",
       " 'orgao_cessionario',\n",
       " 'padrao',\n",
       " 'pagina_dodf',\n",
       " 'processo_SEI',\n",
       " 'quadro',\n",
       " 'simbolo',\n",
       " 'simbolo_objeto_substituicao',\n",
       " 'simbolo_substituto',\n",
       " 'tipo_ato',\n",
       " 'tipo_documento',\n",
       " 'tipo_edicao',\n",
       " 'vigencia'}"
      ]
     },
     "execution_count": 5,
     "metadata": {},
     "output_type": "execute_result"
    }
   ],
   "source": [
    "ldr.all_columns"
   ]
  },
  {
   "cell_type": "code",
   "execution_count": 6,
   "metadata": {},
   "outputs": [],
   "source": [
    "reload(P)\n",
    "reload(UT)\n",
    "\n",
    "\n",
    "params = dict(\n",
    "    algorithm = 'l2sgd', \n",
    "    c2=1,\n",
    "    max_iterations=10, \n",
    "    all_possible_transitions=True,\n",
    ")\n",
    "\n",
    "model = sklearn_crfsuite.CRF(\n",
    "    **params,\n",
    "    verbose=False\n",
    ")\n",
    "\n",
    "\n",
    "to_drop=r'(annotator|offset)'\n",
    "pipe_crf = Pipeline([\n",
    "    ('drop_pattern', T.DropPattern(to_drop)),\n",
    "    ('selector', T.SelectColumn(aec)),\n",
    "    ('tokenizer', T.Tokenizer()),\n",
    "    ('crformer', T.CRFFeaturizer()),\n",
    "    ('model', sklearn_crfsuite.CRF(**params, verbose=False)),\n",
    "])\n",
    "\n",
    "pipe_labelizer = Pipeline([\n",
    "    ('drop_pattern', T.DropPattern(to_drop)),\n",
    "    ('keep_only', T.KeepOnlyOneAct(aec)),\n",
    "    ('iobifier', T.IOBifyer(column=aec)),\n",
    "])\n",
    "\n",
    "df = ldr[aec]\n",
    "train_y=pipe_labelizer.fit_transform(df);\n",
    "pipe_crf.fit(df, train_y);"
   ]
  },
  {
   "cell_type": "code",
   "execution_count": 7,
   "metadata": {},
   "outputs": [],
   "source": [
    "import math\n",
    "training_ratio = 0.7\n",
    "limit = int(math.ceil(training_ratio * df.shape[0]))\n",
    "\n",
    "\n",
    "df_train, df_test = df.iloc[:limit], df.iloc[limit:]\n",
    "y = pipe_labelizer.fit_transform(df_test)\n",
    "\n",
    "pipe_crf.fit(\n",
    "    df_train,\n",
    "    pipe_labelizer.fit_transform(df_train)\n",
    ");\n",
    "y_pred=pipe_crf.predict(df_test);"
   ]
  },
  {
   "cell_type": "code",
   "execution_count": 8,
   "metadata": {
    "scrolled": true
   },
   "outputs": [
    {
     "data": {
      "text/plain": [
       "0     [O, B-nome, I-nome, I-nome, I-nome, B-cargo_ef...\n",
       "1     [O, B-nome, I-nome, I-nome, I-nome, B-cargo_ef...\n",
       "2     [O, B-a_pedido_ou_nao, I-a_pedido_ou_nao, B-no...\n",
       "3     [O, B-a_pedido_ou_nao, I-a_pedido_ou_nao, B-no...\n",
       "4     [O, B-a_pedido_ou_nao, I-a_pedido_ou_nao, B-no...\n",
       "5     [O, B-a_pedido_ou_nao, I-a_pedido_ou_nao, B-no...\n",
       "6     [O, B-a_pedido_ou_nao, I-a_pedido_ou_nao, B-no...\n",
       "7     [O, B-a_pedido_ou_nao, I-a_pedido_ou_nao, B-no...\n",
       "8     [O, B-nome, I-nome, I-nome, I-nome, B-cargo_ef...\n",
       "9     [O, O, O, O, O, O, O, O, O, O, O, O, O, O, O, ...\n",
       "10    [O, O, O, O, O, O, O, O, O, O, O, O, O, O, O, ...\n",
       "11    [O, O, O, O, O, O, O, O, O, O, O, O, O, O, O, ...\n",
       "dtype: object"
      ]
     },
     "execution_count": 8,
     "metadata": {},
     "output_type": "execute_result"
    }
   ],
   "source": [
    "y"
   ]
  }
 ],
 "metadata": {
  "kernelspec": {
   "display_name": "Python 3",
   "language": "python",
   "name": "python3"
  },
  "language_info": {
   "codemirror_mode": {
    "name": "ipython",
    "version": 3
   },
   "file_extension": ".py",
   "mimetype": "text/x-python",
   "name": "python",
   "nbconvert_exporter": "python",
   "pygments_lexer": "ipython3",
   "version": "3.8.1"
  }
 },
 "nbformat": 4,
 "nbformat_minor": 4
}
